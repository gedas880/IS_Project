{
 "cells": [
  {
   "cell_type": "code",
   "execution_count": 121,
   "metadata": {
    "collapsed": false
   },
   "outputs": [
    {
     "name": "stdout",
     "output_type": "stream",
     "text": [
      "Converter: C:/Users/Gedas/Desktop/DTU/31380/final/midicsv.exe\n",
      "Input Midi files:C:/Users/Gedas/Desktop/DTU/31380/final/input/\n",
      "Output CSV files:C:/Users/Gedas/Desktop/DTU/31380/final/output/\n",
      "['deb_clai.mid', 'Hakuna.mid', 'midiout.mid']\n"
     ]
    }
   ],
   "source": [
    "import os, numpy, csv, shutil\n",
    "import pandas as pd\n",
    "\n",
    "#Settings and directories\n",
    "#Directories, !!! Make sure that you use \"/\" sclashes, not \"\\\", Python does not like it. And finish all directories with /\n",
    "#Example: 'C:/Users/31380/final/'\n",
    "converter_Dir='C:/Users/Gedas/Desktop/DTU/31380/final/'\n",
    "input_Dir='C:/Users/Gedas/Desktop/DTU/31380/final/input/'\n",
    "output_Dir='C:/Users/Gedas/Desktop/DTU/31380/final/output/'\n",
    "\n",
    "#Settings 'Relative' or 'Absolute'\n",
    "time_Midi='Relative'\n",
    "\n",
    "\n",
    "print('Converter:',converter_Dir+'midicsv.exe')\n",
    "print('Input Midi files:'+input_Dir)\n",
    "print('Output CSV files:'+output_Dir)\n",
    "\n",
    "list_Midi=[0 for i in range(len(os.listdir(input_Dir)))]\n",
    "i=0\n",
    "\n",
    "for file in os.listdir(input_Dir):\n",
    "    if file.endswith(\".mid\"):\n",
    "        list_Midi[i]=file\n",
    "        i=i+1\n",
    "list_Midi=numpy.trim_zeros(list_Midi)\n",
    "print(list_Midi)\n",
    "if len(list_Midi)==0:\n",
    "    print('Input directory is empty')\n",
    "\n",
    "for the_file in os.listdir(output_Dir):\n",
    "    file_path = os.path.join(output_Dir, the_file)\n",
    "    try:\n",
    "        if os.path.isfile(file_path) and the_file.endswith(\".csv\"):\n",
    "            os.unlink(file_path)\n",
    "    except Exception as e:\n",
    "        print(e)\n",
    "    \n",
    "for i in range(0,len(list_Midi)):\n",
    "    state=os.system(converter_Dir+'midicsv.exe '+input_Dir+list_Midi[i]+'>'+output_Dir+list_Midi[i].replace(\".mid\",\".csv\"))\n",
    "    if state==1:\n",
    "        print('Error: file '+list_Midi[i]+'convertion problem.')\n",
    "        state=0\n",
    "        \n",
    "list_CSV=[0 for i in range(len(os.listdir(output_Dir)))]\n",
    "i=0\n",
    "for file in os.listdir(output_Dir):\n",
    "    if file.endswith(\".csv\"):\n",
    "        list_CSV[i]=file\n",
    "        i=i+1\n",
    "list_CSV=numpy.trim_zeros(list_CSV)\n",
    "\n",
    "for i in range(0,len(list_CSV)):\n",
    "    with open(output_Dir+list_CSV[i], 'r') as inp, open(output_Dir+list_CSV[i].replace(\".csv\",\"_e.csv\"), 'w', newline='') as out:\n",
    "        writer = csv.writer(out)\n",
    "        for row in csv.reader(inp):\n",
    "            if row[2] == \" Note_on_c\" or row[2] == \" Note_off_c\":\n",
    "                writer.writerow(row)\n",
    "\n",
    "i=0                \n",
    "for i in range(0,len(list_CSV)):\n",
    "    data=pd.read_csv(output_Dir+list_CSV[i].replace(\".csv\",\"_e.csv\"),\n",
    "                     names=['Channel','Time','State','Something','Note','Volume'],\n",
    "                     index_col = False,  error_bad_lines=False, header=None, sep=',')\n",
    "    data=data[['Channel','Time','State','Note','Volume']]\n",
    "    if time_Midi=='Relative':\n",
    "        for n in range(0,len(data),2):\n",
    "            data.ix[n,'Time']=data.ix[n+1,'Time']-data.ix[n,'Time']\n",
    "        for n in range(0,len(data)):\n",
    "            if data.ix[n,'State'] == \" Note_off_c\" or data.ix[n,'Volume'] == 0:\n",
    "                data=data.drop(n)\n",
    "    data.to_csv(output_Dir+list_CSV[i].replace(\".csv\",\"_e.csv\"), index = False)\n",
    "\n"
   ]
  },
  {
   "cell_type": "code",
   "execution_count": null,
   "metadata": {
    "collapsed": false
   },
   "outputs": [],
   "source": [
    "        if time_Midi=='Absolute':\n",
    "            for row in csv.reader(inp):\n",
    "                if row[2] == \" Note_on_c\" or row[2] == \" Note_off_c\":\n",
    "                    writer.writerow(row)\n",
    "        elif time_Midi=='Relative':\n",
    "            for row in csv.reader(inp):\n",
    "                if row[2] == \" Note_on_c\" or row[2] == \" Note_off_c\":\n",
    "                    writer.writerow({row[0],row[1],row[2],row[3]})\n",
    "        else:\n",
    "            print('Define \"time_Midi\" setting (Absolute or Relative)')"
   ]
  },
  {
   "cell_type": "code",
   "execution_count": 84,
   "metadata": {
    "collapsed": true
   },
   "outputs": [],
   "source": [
    "data.ix[1,'Time']=0"
   ]
  },
  {
   "cell_type": "code",
   "execution_count": 90,
   "metadata": {
    "collapsed": false
   },
   "outputs": [
    {
     "name": "stdout",
     "output_type": "stream",
     "text": [
      "0\n"
     ]
    }
   ],
   "source": [
    "print(data.ix[1,'Time'])\n",
    "data=data.drop(1)"
   ]
  },
  {
   "cell_type": "code",
   "execution_count": 100,
   "metadata": {
    "collapsed": true
   },
   "outputs": [],
   "source": [
    "data.to_csv(output_Dir+'test.csv'.replace(\".csv\",\"_e.csv\"),index = False)"
   ]
  },
  {
   "cell_type": "code",
   "execution_count": 113,
   "metadata": {
    "collapsed": false
   },
   "outputs": [],
   "source": []
  },
  {
   "cell_type": "code",
   "execution_count": 114,
   "metadata": {
    "collapsed": false
   },
   "outputs": [
    {
     "name": "stdout",
     "output_type": "stream",
     "text": [
      "     Channel  Time       State  Note  Volume\n",
      "0          1    96   Note_on_c     0     100\n",
      "2          1    96   Note_on_c     1     100\n",
      "4          1    96   Note_on_c     2     100\n",
      "6          1    96   Note_on_c     3     100\n",
      "8          1    96   Note_on_c     4     100\n",
      "10         1    96   Note_on_c     5     100\n",
      "12         1    96   Note_on_c     6     100\n",
      "14         1    96   Note_on_c     7     100\n",
      "16         1    96   Note_on_c     8     100\n",
      "18         1    96   Note_on_c     9     100\n",
      "20         1    96   Note_on_c    10     100\n",
      "22         1    96   Note_on_c    11     100\n",
      "24         1    96   Note_on_c    12     100\n",
      "26         1    96   Note_on_c    13     100\n",
      "28         1    96   Note_on_c    14     100\n",
      "30         1    96   Note_on_c    15     100\n",
      "32         1    96   Note_on_c    16     100\n",
      "34         1    96   Note_on_c    17     100\n",
      "36         1    96   Note_on_c    18     100\n",
      "38         1    96   Note_on_c    19     100\n",
      "40         1    96   Note_on_c    20     100\n",
      "42         1    96   Note_on_c    21     100\n",
      "44         1    96   Note_on_c    22     100\n",
      "46         1    96   Note_on_c    23     100\n",
      "48         1    96   Note_on_c    24     100\n",
      "50         1    96   Note_on_c    25     100\n",
      "52         1    96   Note_on_c    26     100\n",
      "54         1    96   Note_on_c    27     100\n",
      "56         1    96   Note_on_c    28     100\n",
      "58         1    96   Note_on_c    29     100\n",
      "..       ...   ...         ...   ...     ...\n",
      "194        1    96   Note_on_c    97     100\n",
      "196        1    96   Note_on_c    98     100\n",
      "198        1    96   Note_on_c    99     100\n",
      "200        1    96   Note_on_c   100     100\n",
      "202        1    96   Note_on_c   101     100\n",
      "204        1    96   Note_on_c   102     100\n",
      "206        1    96   Note_on_c   103     100\n",
      "208        1    96   Note_on_c   104     100\n",
      "210        1    96   Note_on_c   105     100\n",
      "212        1    96   Note_on_c   106     100\n",
      "214        1    96   Note_on_c   107     100\n",
      "216        1    96   Note_on_c   108     100\n",
      "218        1    96   Note_on_c   109     100\n",
      "220        1    96   Note_on_c   110     100\n",
      "222        1    96   Note_on_c   111     100\n",
      "224        1    96   Note_on_c   112     100\n",
      "226        1    96   Note_on_c   113     100\n",
      "228        1    96   Note_on_c   114     100\n",
      "230        1    96   Note_on_c   115     100\n",
      "232        1    96   Note_on_c   116     100\n",
      "234        1    96   Note_on_c   117     100\n",
      "236        1    96   Note_on_c   118     100\n",
      "238        1    96   Note_on_c   119     100\n",
      "240        1    96   Note_on_c   120     100\n",
      "242        1    96   Note_on_c   121     100\n",
      "244        1    96   Note_on_c   122     100\n",
      "246        1    96   Note_on_c   123     100\n",
      "248        1    96   Note_on_c   124     100\n",
      "250        1    96   Note_on_c   125     100\n",
      "252        1    96   Note_on_c   126     100\n",
      "\n",
      "[127 rows x 5 columns]\n"
     ]
    }
   ],
   "source": [
    "print(data)"
   ]
  },
  {
   "cell_type": "code",
   "execution_count": null,
   "metadata": {
    "collapsed": true
   },
   "outputs": [],
   "source": []
  }
 ],
 "metadata": {
  "anaconda-cloud": {},
  "kernelspec": {
   "display_name": "Python [Root]",
   "language": "python",
   "name": "Python [Root]"
  },
  "language_info": {
   "codemirror_mode": {
    "name": "ipython",
    "version": 3
   },
   "file_extension": ".py",
   "mimetype": "text/x-python",
   "name": "python",
   "nbconvert_exporter": "python",
   "pygments_lexer": "ipython3",
   "version": "3.5.2"
  }
 },
 "nbformat": 4,
 "nbformat_minor": 0
}
