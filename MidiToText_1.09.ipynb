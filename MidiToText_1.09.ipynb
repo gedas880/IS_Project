{
 "cells": [
  {
   "cell_type": "code",
   "execution_count": 24,
   "metadata": {
    "collapsed": false
   },
   "outputs": [
    {
     "name": "stdout",
     "output_type": "stream",
     "text": [
      "Converter: C:/Users/S160939/Desktop/midicsv/midicsv.exe\n",
      "Input Midi files:C:/Users/S160939/Desktop/midicsv/input/\n",
      "Output CSV files:C:/Users/S160939/Desktop/midicsv/output/\n",
      "['HakunaMatata.mid', 'rand.mid']\n"
     ]
    }
   ],
   "source": [
    "import os, numpy, csv, shutil\n",
    "import pandas as pd\n",
    "from statistics import mode\n",
    "\n",
    "#Settings and directories\n",
    "#Directories, !!! Make sure that you use \"/\" sclashes, not \"\\\", Python does not like it. And finish all directories with /\n",
    "#Example: 'C:/Users/31380/final/'\n",
    "converter_Dir='C:/Users/S160939/Desktop/midicsv/'\n",
    "input_Dir='C:/Users/S160939/Desktop/midicsv/input/'\n",
    "output_Dir='C:/Users/S160939/Desktop/midicsv/output/'\n",
    "\n",
    "#Settings 'Relative' or 'Absolute'\n",
    "time_Midi='Relative'\n",
    "\n",
    "\n",
    "print('Converter:',converter_Dir+'midicsv.exe')\n",
    "print('Input Midi files:'+input_Dir)\n",
    "print('Output CSV files:'+output_Dir)\n",
    "\n",
    "list_Midi=[0 for i in range(len(os.listdir(input_Dir)))]\n",
    "list_Tempo=[0 for i in range(len(os.listdir(input_Dir)))]\n",
    "i=0\n",
    "\n",
    "for file in os.listdir(input_Dir):\n",
    "    if file.endswith(\".mid\"):\n",
    "        list_Midi[i]=file\n",
    "        i=i+1\n",
    "list_Midi=numpy.trim_zeros(list_Midi)\n",
    "print(list_Midi)\n",
    "if len(list_Midi)==0:\n",
    "    print('Input directory is empty')\n",
    "\n",
    "for the_file in os.listdir(output_Dir):\n",
    "    file_path = os.path.join(output_Dir, the_file)\n",
    "    try:\n",
    "        if os.path.isfile(file_path) and the_file.endswith(\".csv\"):\n",
    "            os.unlink(file_path)\n",
    "    except Exception as e:\n",
    "        print(e)\n",
    "    \n",
    "for i in range(0,len(list_Midi)):\n",
    "    state=os.system(converter_Dir+'midicsv.exe '+input_Dir+list_Midi[i]+'>'+output_Dir+list_Midi[i].replace(\".mid\",\".csv\"))\n",
    "    if state==1:\n",
    "        print('Error: file '+list_Midi[i]+'convertion problem.')\n",
    "        state=0\n",
    "        \n",
    "list_CSV=[0 for i in range(len(os.listdir(output_Dir)))]\n",
    "i=0\n",
    "for file in os.listdir(output_Dir):\n",
    "    if file.endswith(\".csv\"):\n",
    "        list_CSV[i]=file\n",
    "        i=i+1\n",
    "list_CSV=numpy.trim_zeros(list_CSV)\n",
    "\n",
    "for i in range(0,len(list_CSV)):\n",
    "    with open(output_Dir+list_CSV[i], 'r') as inp, open(output_Dir+list_CSV[i].replace(\".csv\",\"_e.csv\"), 'w', newline='') as out:\n",
    "        writer = csv.writer(out)\n",
    "        for row in csv.reader(inp):\n",
    "            if row[2] == \" Note_on_c\" or row[2] == \" Note_off_c\":\n",
    "                writer.writerow(row)\n",
    "            elif row[2] == \" Tempo\":\n",
    "                list_Tempo[i]=row[3]\n",
    "        \n",
    "i=0                \n",
    "for i in range(0,len(list_CSV)):\n",
    "    data=pd.read_csv(output_Dir+list_CSV[i].replace(\".csv\",\"_e.csv\"),\n",
    "                     names=['Channel','Time','State','Something','Note','Volume','Duration','Bar_nr'],\n",
    "                     index_col = False,  error_bad_lines=False, header=None, sep=',')\n",
    "    data=data[['Channel','Time','State','Note','Volume','Duration','Bar_nr']]\n",
    "    if time_Midi=='Relative':\n",
    "        for n in range(0,len(data)):\n",
    "            data.ix[n,'Bar_nr']=int((data.ix[n,'Time'])/(int(list_Tempo[i])/1000))\n",
    "            try:\n",
    "                note=data.ix[n,'Note']\n",
    "                for g in range(1,10):\n",
    "                    if data.ix[n+g,'Note'] == note and data.ix[n+g,'Volume'] == 0:\n",
    "                        data.ix[n,'Duration']=data.ix[n+g,'Time']-data.ix[n,'Time']\n",
    "                        break\n",
    "                    elif g==10:\n",
    "                        data.ix[n,'Duration']=1\n",
    "            except Exception as e:\n",
    "                e\n",
    "        for n in range(0,len(data)):\n",
    "            if data.ix[n,'State'] == ' Note_off_c' or (data.ix[n,'Volume'] == 0 and data.ix[n,'State'] == ' Note_on_c') or data.ix[n,'Duration'] == 0:\n",
    "                data=data.drop(n)\n",
    "\n",
    "    data.ix[-2,'State']='BPM'\n",
    "    data.ix[-2,'Note']=int(60000/(int(list_Tempo[i])/1000))\n",
    "    data.ix[-1,'State']='Tempo_ms'\n",
    "    data.ix[-1,'Note']=(int(list_Tempo[i])/1000)\n",
    "    data.to_csv(output_Dir+list_CSV[i].replace(\".csv\",\"_e.csv\"), index = False)\n",
    "\n"
   ]
  },
  {
   "cell_type": "code",
   "execution_count": 15,
   "metadata": {
    "collapsed": false
   },
   "outputs": [],
   "source": [
    "from collections import Counter\n",
    "data=pd.read_csv(output_Dir+'Hakuna_e.csv')\n",
    "count=Counter(data['Time'])\n",
    "print(count[mode(data['Time'])])"
   ]
  },
  {
   "cell_type": "code",
   "execution_count": 5,
   "metadata": {
    "collapsed": false
   },
   "outputs": [
    {
     "data": {
      "text/html": [
       "<div>\n",
       "<table border=\"1\" class=\"dataframe\">\n",
       "  <thead>\n",
       "    <tr style=\"text-align: right;\">\n",
       "      <th></th>\n",
       "      <th>Channel</th>\n",
       "      <th>Time</th>\n",
       "      <th>State</th>\n",
       "      <th>Program</th>\n",
       "      <th>Note</th>\n",
       "      <th>Volume</th>\n",
       "    </tr>\n",
       "  </thead>\n",
       "  <tbody>\n",
       "    <tr>\n",
       "      <th>0</th>\n",
       "      <td>1</td>\n",
       "      <td>0</td>\n",
       "      <td>Note_on_C</td>\n",
       "      <td>1</td>\n",
       "      <td>45</td>\n",
       "      <td>90</td>\n",
       "    </tr>\n",
       "    <tr>\n",
       "      <th>1</th>\n",
       "      <td>1</td>\n",
       "      <td>333</td>\n",
       "      <td>Note_on_C</td>\n",
       "      <td>1</td>\n",
       "      <td>45</td>\n",
       "      <td>0</td>\n",
       "    </tr>\n",
       "    <tr>\n",
       "      <th>2</th>\n",
       "      <td>1</td>\n",
       "      <td>666</td>\n",
       "      <td>Note_on_C</td>\n",
       "      <td>1</td>\n",
       "      <td>41</td>\n",
       "      <td>90</td>\n",
       "    </tr>\n",
       "    <tr>\n",
       "      <th>3</th>\n",
       "      <td>1</td>\n",
       "      <td>999</td>\n",
       "      <td>Note_on_C</td>\n",
       "      <td>1</td>\n",
       "      <td>41</td>\n",
       "      <td>0</td>\n",
       "    </tr>\n",
       "    <tr>\n",
       "      <th>4</th>\n",
       "      <td>1</td>\n",
       "      <td>1332</td>\n",
       "      <td>Note_on_C</td>\n",
       "      <td>1</td>\n",
       "      <td>63</td>\n",
       "      <td>90</td>\n",
       "    </tr>\n",
       "  </tbody>\n",
       "</table>\n",
       "</div>"
      ],
      "text/plain": [
       "   Channel  Time      State  Program  Note  Volume\n",
       "0        1     0  Note_on_C        1    45      90\n",
       "1        1   333  Note_on_C        1    45       0\n",
       "2        1   666  Note_on_C        1    41      90\n",
       "3        1   999  Note_on_C        1    41       0\n",
       "4        1  1332  Note_on_C        1    63      90"
      ]
     },
     "execution_count": 5,
     "metadata": {},
     "output_type": "execute_result"
    }
   ],
   "source": [
    "# Generate song\n",
    "import numpy as np\n",
    "# initialize database\n",
    "df = pd.DataFrame(columns=['Channel','Time','State','Program','Note','Volume'])\n",
    "#df.head()\n",
    "#df.append([ [0] * 5 ] * 100)\n",
    "Channel = [];\n",
    "Time = [];\n",
    "State = [];\n",
    "Note = [];\n",
    "Volume = [];\n",
    "\n",
    "#Generate Song\n",
    "for i in range(0,100):\n",
    "    Program = 1\n",
    "    Channel = 1;\n",
    "    Time = int(round((2*i)*333));\n",
    "    State = 'Note_on_C';\n",
    "    Volume = 90;\n",
    "    VolumeOff = 0;\n",
    "    Note = np.random.randint(low=36,high=73)\n",
    "    \n",
    "    frame = [int(Channel), Time, State, Program, Note, Volume]\n",
    "    \n",
    "    df.loc[i*2] = [int(Channel), Time, State, Program, Note, Volume]\n",
    "    \n",
    "    Time = Time + 333;\n",
    "    df.loc[(i*2)+1] = [Channel, Time, State, Program, Note, VolumeOff]\n",
    "    df['Channel']=df['Channel'].astype(int)\n",
    "    df['Time']=df['Time'].astype(int)\n",
    "    df['Program']=df['Program'].astype(int)\n",
    "    df['Note']=df['Note'].astype(int)\n",
    "    df['Volume']=df['Volume'].astype(int)\n",
    "df.head()\n",
    "\n",
    "# Convert DataFrame to CSV\n",
    "# Convert CSV to MIDI\n",
    "# Play MIDI file\n",
    "\n",
    "# df.head()"
   ]
  },
  {
   "cell_type": "code",
   "execution_count": 28,
   "metadata": {
    "collapsed": false
   },
   "outputs": [],
   "source": [
    "df.to_csv('random.csv', index = False, header = False, dtype = {int})"
   ]
  },
  {
   "cell_type": "code",
   "execution_count": 81,
   "metadata": {
    "collapsed": false
   },
   "outputs": [],
   "source": [
    "data = pd.read_csv(output_Dir+'HakunaMatata_e.csv')\n",
    "data.insert(3,'Program',1)\n",
    "data=data[['Channel','Time','State','Program','Note','Volume']]\n",
    "settings_Midi = pd.DataFrame([[0, 0, 'Header', 1, 1, 384],\n",
    "                              [1, 0, 'Start_track'],\n",
    "                              [1, 0, 'Tempo', 333333],\n",
    "                              [1, 0, 'MIDI_port', 0],\n",
    "                              [1, 0, 'Program_c', 1, 7],\n",
    "                              [1, 0, 'Control_c', 0, 7, 100],\n",
    "                              [1, 0, 'Control_c', 0, 0, 0]],\n",
    "                            columns = ['Channel','Time','State','Program','Note','Volume'] )\n",
    "\n",
    "settings_Midi_end = pd.DataFrame([[1, 66267, 'End_track'],\n",
    "                                  [0, 0, 'End_of_file', 0, 0, 0]],\n",
    "                            columns = ['Channel','Time','State','Program','Note','Volume'])\n",
    "\n",
    "\n",
    "\n",
    "data = data.drop(len(data)-1)\n",
    "data = data.drop(len(data)-1)\n",
    "\n",
    "data=settings_Midi.append(data)\n",
    "data=data.append(settings_Midi_end)\n"
   ]
  },
  {
   "cell_type": "code",
   "execution_count": 86,
   "metadata": {
    "collapsed": false
   },
   "outputs": [
    {
     "ename": "SyntaxError",
     "evalue": "keyword can't be an expression (<ipython-input-86-127181017097>, line 2)",
     "output_type": "error",
     "traceback": [
      "\u001b[0;36m  File \u001b[0;32m\"<ipython-input-86-127181017097>\"\u001b[0;36m, line \u001b[0;32m2\u001b[0m\n\u001b[0;31m    print(data.loc[5]=25)\u001b[0m\n\u001b[0m         ^\u001b[0m\n\u001b[0;31mSyntaxError\u001b[0m\u001b[0;31m:\u001b[0m keyword can't be an expression\n"
     ]
    }
   ],
   "source": []
  },
  {
   "cell_type": "code",
   "execution_count": 82,
   "metadata": {
    "collapsed": false
   },
   "outputs": [],
   "source": [
    "\n",
    "data.to_csv('test.csv')"
   ]
  },
  {
   "cell_type": "code",
   "execution_count": null,
   "metadata": {
    "collapsed": false
   },
   "outputs": [],
   "source": []
  },
  {
   "cell_type": "code",
   "execution_count": null,
   "metadata": {
    "collapsed": false,
    "scrolled": true
   },
   "outputs": [],
   "source": []
  },
  {
   "cell_type": "code",
   "execution_count": null,
   "metadata": {
    "collapsed": false
   },
   "outputs": [],
   "source": []
  },
  {
   "cell_type": "code",
   "execution_count": null,
   "metadata": {
    "collapsed": false
   },
   "outputs": [],
   "source": []
  },
  {
   "cell_type": "code",
   "execution_count": null,
   "metadata": {
    "collapsed": true
   },
   "outputs": [],
   "source": []
  }
 ],
 "metadata": {
  "anaconda-cloud": {},
  "kernelspec": {
   "display_name": "Python [conda root]",
   "language": "python",
   "name": "conda-root-py"
  },
  "language_info": {
   "codemirror_mode": {
    "name": "ipython",
    "version": 3
   },
   "file_extension": ".py",
   "mimetype": "text/x-python",
   "name": "python",
   "nbconvert_exporter": "python",
   "pygments_lexer": "ipython3",
   "version": "3.5.2"
  }
 },
 "nbformat": 4,
 "nbformat_minor": 0
}
