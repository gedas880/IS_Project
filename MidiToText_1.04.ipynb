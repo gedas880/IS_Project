{
 "cells": [
  {
   "cell_type": "code",
   "execution_count": 6,
   "metadata": {
    "collapsed": false
   },
   "outputs": [
    {
     "name": "stdout",
     "output_type": "stream",
     "text": [
      "Converter: C:/Users/S160939/Desktop/IS/midicsv.exe\n",
      "Input Midi files:C:/Users/S160939/Desktop/IS/input/\n",
      "Output CSV files:C:/Users/S160939/Desktop/IS/output/\n",
      "['HakunaMatata.mid', 'Michael_Jackson_-_Beat_It.mid', 'SultansOfSwing.mid', 'The_Beatles_-_I_Saw_Her_Standing_There.mid']\n"
     ]
    }
   ],
   "source": [
    "import os, numpy, csv, shutil\n",
    "import pandas as pd\n",
    "\n",
    "#Settings and directories\n",
    "#Directories, !!! Make sure that you use \"/\" sclashes, not \"\\\", Python does not like it. And finish all directories with /\n",
    "#Example: 'C:/Users/31380/final/'\n",
    "converter_Dir='C:/Users/S160939/Desktop/IS/'\n",
    "input_Dir='C:/Users/S160939/Desktop/IS/input/'\n",
    "output_Dir='C:/Users/S160939/Desktop/IS/output/'\n",
    "\n",
    "#Settings 'Relative' or 'Absolute'\n",
    "time_Midi='Relative'\n",
    "\n",
    "\n",
    "print('Converter:',converter_Dir+'midicsv.exe')\n",
    "print('Input Midi files:'+input_Dir)\n",
    "print('Output CSV files:'+output_Dir)\n",
    "\n",
    "list_Midi=[0 for i in range(len(os.listdir(input_Dir)))]\n",
    "i=0\n",
    "\n",
    "for file in os.listdir(input_Dir):\n",
    "    if file.endswith(\".mid\"):\n",
    "        list_Midi[i]=file\n",
    "        i=i+1\n",
    "list_Midi=numpy.trim_zeros(list_Midi)\n",
    "print(list_Midi)\n",
    "if len(list_Midi)==0:\n",
    "    print('Input directory is empty')\n",
    "\n",
    "for the_file in os.listdir(output_Dir):\n",
    "    file_path = os.path.join(output_Dir, the_file)\n",
    "    try:\n",
    "        if os.path.isfile(file_path) and the_file.endswith(\".csv\"):\n",
    "            os.unlink(file_path)\n",
    "    except Exception as e:\n",
    "        print(e)\n",
    "    \n",
    "for i in range(0,len(list_Midi)):\n",
    "    state=os.system(converter_Dir+'midicsv.exe '+input_Dir+list_Midi[i]+'>'+output_Dir+list_Midi[i].replace(\".mid\",\".csv\"))\n",
    "    if state==1:\n",
    "        print('Error: file '+list_Midi[i]+'convertion problem.')\n",
    "        state=0\n",
    "        \n",
    "list_CSV=[0 for i in range(len(os.listdir(output_Dir)))]\n",
    "i=0\n",
    "for file in os.listdir(output_Dir):\n",
    "    if file.endswith(\".csv\"):\n",
    "        list_CSV[i]=file\n",
    "        i=i+1\n",
    "list_CSV=numpy.trim_zeros(list_CSV)\n",
    "\n",
    "for i in range(0,len(list_CSV)):\n",
    "    with open(output_Dir+list_CSV[i], 'r') as inp, open(output_Dir+list_CSV[i].replace(\".csv\",\"_e.csv\"), 'w', newline='') as out:\n",
    "        writer = csv.writer(out)\n",
    "        for row in csv.reader(inp):\n",
    "            if row[2] == \" Note_on_c\" or row[2] == \" Note_off_c\":\n",
    "                writer.writerow(row)\n",
    "\n",
    "i=0                \n",
    "for i in range(0,len(list_CSV)):\n",
    "    data=pd.read_csv(output_Dir+list_CSV[i].replace(\".csv\",\"_e.csv\"),\n",
    "                     names=['Channel','Time','State','Something','Note','Volume','Duration'],\n",
    "                     index_col = False,  error_bad_lines=False, header=None, sep=',')\n",
    "    data=data[['Channel','Time','State','Note','Volume','Duration']]\n",
    "    if time_Midi=='Relative':\n",
    "        for n in range(0,len(data)):\n",
    "            try:\n",
    "                if data.ix[n,'State'] != ' Note_off_c' or (data.ix[n,'Volume'] != 0 and data.ix[n,'State'] == ' Note_on_c'):\n",
    "                    data.ix[n,'Duration']=data.ix[n+1,'Time']-data.ix[n,'Time']\n",
    "            except Exception as e:\n",
    "                e\n",
    "        for n in range(0,len(data)):\n",
    "            if data.ix[n,'State'] == ' Note_off_c' or (data.ix[n,'Volume'] == 0 and data.ix[n,'State'] == ' Note_on_c') or data.ix[n,'Duration'] == 0:\n",
    "                data=data.drop(n)\n",
    "    data.to_csv(output_Dir+list_CSV[i].replace(\".csv\",\"_e.csv\"), index = False)\n",
    "\n"
   ]
  },
  {
   "cell_type": "code",
   "execution_count": null,
   "metadata": {
    "collapsed": false
   },
   "outputs": [],
   "source": []
  },
  {
   "cell_type": "code",
   "execution_count": null,
   "metadata": {
    "collapsed": true
   },
   "outputs": [],
   "source": []
  }
 ],
 "metadata": {
  "anaconda-cloud": {},
  "kernelspec": {
   "display_name": "Python [conda root]",
   "language": "python",
   "name": "conda-root-py"
  },
  "language_info": {
   "codemirror_mode": {
    "name": "ipython",
    "version": 3
   },
   "file_extension": ".py",
   "mimetype": "text/x-python",
   "name": "python",
   "nbconvert_exporter": "python",
   "pygments_lexer": "ipython3",
   "version": "3.5.2"
  }
 },
 "nbformat": 4,
 "nbformat_minor": 0
}
