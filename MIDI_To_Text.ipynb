{
 "cells": [
  {
   "cell_type": "code",
   "execution_count": null,
   "metadata": {
    "collapsed": true
   },
   "outputs": [],
   "source": [
    "import os, numpy, csv\n",
    "import pandas as pd\n",
    "\n",
    "converter_Dir='C:/Users/S160939/Desktop/IS_final'\n",
    "input_Dir='C:/Users/S160939/Desktop/IS_final/input/'\n",
    "output_Dir='C:/Users/S160939/Desktop/IS_final/output/'\n",
    "\n",
    "print('Converter:',converter_Dir+'/midicsv.exe')\n",
    "print('Input Midi files:',input_Dir)\n",
    "print('Output CSV files:',output_Dir)\n",
    "\n",
    "list_Midi=[0 for i in range(len(os.listdir(input_Dir)))]\n",
    "i=0\n",
    "\n",
    "for file in os.listdir(input_Dir):\n",
    "    if file.endswith(\".mid\"):\n",
    "        list_Midi[i]=file\n",
    "        i=i+1\n",
    "list_Midi=numpy.trim_zeros(list_Midi)\n",
    "print(list_Midi)\n",
    "if len(list_Midi)==0:\n",
    "    print('Input directory is empty')\n",
    "\n",
    "for i in range(0,len(list_Midi)):\n",
    "    state=os.system(converter_Dir+'/'+'midicsv.exe '+input_Dir+list_Midi[i]+'>'+output_Dir+list_Midi[i].replace(\".mid\",\".csv\"))\n",
    "    if state==1:\n",
    "        print('Error: file '+list_Midi[i]+'convertion problem.')\n",
    "        state=0\n",
    "        \n",
    "list_CSV=[0 for i in range(len(os.listdir(output_Dir)))]\n",
    "i=0\n",
    "for file in os.listdir(output_Dir):\n",
    "    if file.endswith(\".csv\"):\n",
    "        list_CSV[i]=file\n",
    "        i=i+1\n",
    "list_CSV=numpy.trim_zeros(list_CSV)\n",
    "\n",
    "for i in range(0,len(list_CSV)):\n",
    "    with open(output_Dir+list_CSV[i], 'r') as inp, open(output_Dir+list_CSV[i].replace(\".csv\",\"_e.csv\"), 'w', newline='') as out:\n",
    "        writer = csv.writer(out)\n",
    "        for row in csv.reader(inp):\n",
    "            if row[2] == \" Note_on_c\" or row[2] == \" Note_off_c\":\n",
    "                writer.writerow(row)\n",
    "\n",
    "i=0                \n",
    "for i in range(0,len(list_CSV)):\n",
    "    data=pd.read_csv(output_Dir+list_CSV[i].replace(\".csv\",\"_e.csv\"),\n",
    "                     names=['Channel','Time','State','Something','Note','Volume'],\n",
    "                     index_col = False,  error_bad_lines=False, header=None, sep=',')\n",
    "    data=data[['Channel','Time','State','Note','Volume']]\n",
    "    data.to_csv(output_Dir+list_CSV[i].replace(\".csv\",\"_e.csv\"),index_col = False)\n",
    "\n"
   ]
  }
 ],
 "metadata": {
  "anaconda-cloud": {},
  "kernelspec": {
   "display_name": "Python [conda root]",
   "language": "python",
   "name": "conda-root-py"
  },
  "language_info": {
   "codemirror_mode": {
    "name": "ipython",
    "version": 3
   },
   "file_extension": ".py",
   "mimetype": "text/x-python",
   "name": "python",
   "nbconvert_exporter": "python",
   "pygments_lexer": "ipython3",
   "version": "3.5.2"
  }
 },
 "nbformat": 4,
 "nbformat_minor": 1
}
